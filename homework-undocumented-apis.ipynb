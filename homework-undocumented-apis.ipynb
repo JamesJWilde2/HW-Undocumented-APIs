{
 "cells": [
  {
   "cell_type": "markdown",
   "id": "ce40714b",
   "metadata": {},
   "source": [
    "# Homework - Finding APIs\n",
    "\n",
    "Due 7-22<br>\n",
    "Completed by: **James Wilde**\n",
    "\n",
    "In this homework we're going to reverse-engineer [Airbnb](https://en.wikipedia.org/wiki/Airbnb)'s interactive tool to estimate the potential earnings by hosting.\n",
    "\n",
    "You can read the [press release](https://news.airbnb.com/interactive-tool-estimates-potential-monthly-host-earnings-on-airbnb/) for the tool, and view the tool on [their website](https://www.airbnb.com/host/homes?room_type=ENTIRE_HOME)."
   ]
  },
  {
   "cell_type": "markdown",
   "id": "5a3a3332",
   "metadata": {},
   "source": [
    "## Getting started\n",
    "\n",
    "As a reminder, you can follow along to the basic steps to do this from the [tutorial we went over during class](https://inspectelement.org/apis.html#tutorial)."
   ]
  },
  {
   "cell_type": "markdown",
   "id": "79a551b0",
   "metadata": {},
   "source": [
    "### 0) Go to the website, and open the developer tools.\n",
    "\n",
    "As a reminder, the website we'll be inspecting today is here:\n",
    "https://www.airbnb.com/host/homes?room_type=ENTIRE_HOME\n",
    "\n",
    "Visit that link, and open up the developer tools (see step 1 in the tutorial)."
   ]
  },
  {
   "cell_type": "markdown",
   "id": "614d2dab",
   "metadata": {},
   "source": [
    "### 1) Use the site as intended\n",
    "\n",
    "With the developer tools open, go to the \"Network\" tab.\n",
    "\n",
    "Go back to the Airbnb website window, and search a new address. It can be any address. For example, you can check the area surrounding Columbia by entering, \"Pulitzer Hall, Broadway, New York, NY, USA\".\n",
    "\n",
    "We're just doing this step to trigger the network request (API call) that requests the potential earnings for the new address."
   ]
  },
  {
   "cell_type": "markdown",
   "id": "42dd3e72",
   "metadata": {},
   "source": [
    "### 2) Find the API call\n",
    "\n",
    "After searching a new address, you should see more entries in the \"Network\" tab in the developer tools.\n",
    "\n",
    "Try to find the exact API call that pulls the estimated earnings.\n",
    "\n",
    "Hint: this is steps [3 and 4](https://inspectelement.org/apis.html#filter-requests-by-fetchxhr) in the tutorial.\n",
    "\n",
    "When you feel like you found the API call, copy it as a curl, and convert that curl into a Python request using [curlconverter.com](https://curlconverter.com/).\n",
    "\n",
    "Paste the request into the cell below, and run it."
   ]
  },
  {
   "cell_type": "code",
   "execution_count": 3,
   "id": "a6d3dc6f",
   "metadata": {},
   "outputs": [],
   "source": [
    "import requests\n",
    "\n",
    "cookies = {\n",
    "    'everest_cookie': '1752873530.EAMzEyMTg4ZWUxYTBmZm.JWNX4i-atiEY1weS2-qY1vVJ2kh5MPfjMyJI4tkb5y4',\n",
    "    'bev': '1752873530_EAMDk3ZDJjYTgyOW',\n",
    "    'country': 'US',\n",
    "    'cdn_exp_6d1a30c49a4ba4268': 'treatment',\n",
    "    'cdn_exp_ba0c1ab49c246ddf0': 'control',\n",
    "    'ak_bmsc': '24C7B0DE7B43EC4DF7870FE8159F3471~000000000000000000000000000000~YAAQ5/EkFxf0hRuYAQAAb3RnHxw2BDPPqIwAc8yQ+LEuNhYY1qVjhffCKvbwU2mLgCJPyEoRSFiv49IVGsFa7DUHsq40nktPkMbeMwgs5aYeQtu+O5wltwRA+zqphg67oAZ/t6LWKFMwSToKbIAV21gBDhiKef1HkYUoYLMzlKsYd6mongIvCZo7UKqCLXoYB8nfdD8r8Hos+z+5cUSBY2h7q8GX7XP3S0OTAnezJsEMX4jXilDqnhDoJXwMKFf4lx5YyIsY4pGypDFoVKPACfi7kNDxob3cfAP8SY4wCUSknY3PFzaaPnFWOz81geL/PkoIqqXAq1Ae0Ldhg/blgNuvAPiEOfm9p9lI42O3MJjZ/AAZ+rYfCBFb9NTy4nPRlHORdIdJHWqb',\n",
    "    'previousTab': '%7B%22id%22%3A%22f6171dd1-d743-43ed-ae3d-affcfcc16ab8%22%7D',\n",
    "    'jitney_client_session_id': '4820b4b3-8f51-456a-af04-001b38d371a5',\n",
    "    'jitney_client_session_created_at': '1752873531.724',\n",
    "    'jitney_client_session_updated_at': '1752873531.829',\n",
    "    '_cci': 'cban%3Aac-f01ec914-aec7-4635-b1fa-297807dde5a1',\n",
    "    '_ccv': 'cban%3A0_183215%3D1%2C0_200000%3D1%2C0_183345%3D1%2C0_183243%3D1%2C0_183216%3D1%2C0_179751%3D1%2C0_200003%3D1%2C0_200005%3D1%2C0_179754%3D1%2C0_179750%3D1%2C0_179737%3D1%2C0_179744%3D1%2C0_179739%3D1%2C0_179743%3D1%2C0_179749%3D1%2C0_200012%3D1%2C0_200011%3D1%2C0_183217%3D1%2C0_183219%3D1%2C0_183096%3D1%2C0_179747%3D1%2C0_179740%3D1%2C0_179752%3D1%2C0_183241%3D1%2C0_200007%3D1%2C0_183346%3D1%2C0_183095%3D1%2C0_210000%3D1%2C0_210001%3D1%2C0_210002%3D1%2C0_210003%3D1%2C0_210004%3D1%2C0_210010%3D1%2C0_210012%3D1%2C0_210008%3D1%2C0_210016%3D1%2C0_210017%3D1',\n",
    "    'FPID': 'FPID2.2.yQNj6fX80cDyl6109GO69yoZl4Jywjpv3bJB5VFNlKE%3D.1752873532',\n",
    "    'FPLC': 'MfU4f8jP0%2BZR5G63dkKXxIyE%2B1n%2FacFruR3EJ%2BKA1NfM6Nbel6PjH875y07E6dAkciVSkn2Q0b%2FcCaAiK3m%2BEoBGXTlMLl%2Fq8ZLL9hAqw0%2FNSAQw3kQh1EAs7r2N1w%3D%3D',\n",
    "    'FPAU': '1.1.1644874420.1752873533',\n",
    "    'cfrmfctr': 'MOBILE',\n",
    "    'cbkp': '2',\n",
    "    'frmfctr': 'wide',\n",
    "    'bm_sv': '6738C612EFD8221E3B26AFA4C20DEFDD~YAAQ5vEkF9SWIBKYAQAAW7FxHxwPIeaF/o9npHFNU50Jpqrv2w6CHL2kletyDTqaG/b9d0tdu1wtnHT9hNLjM7Rznuv06BPGGNlJHG+mzi95+WLRTdRTERcDo8FHSBeU/Pix/Yvof+oz+0Gn35TolthqUJLeWQSfUc1+IKUGwkJUPiee5dwOl2P88V0pqCg0g5ErvL90m+jE3hIW9AytWuTrBK4Qv/NA/hkeC0MfNmf4NjTHlsqafMoWgc4kl5X48w==~1',\n",
    "}\n",
    "\n",
    "headers = {\n",
    "    'accept': '*/*',\n",
    "    'accept-language': 'en-US,en;q=0.9',\n",
    "    'content-type': 'application/json',\n",
    "    'priority': 'u=1, i',\n",
    "    'referer': 'https://www.airbnb.com/host/homes?room_type=ENTIRE_HOME',\n",
    "    'sec-ch-ua': '\"Not)A;Brand\";v=\"8\", \"Chromium\";v=\"138\", \"Google Chrome\";v=\"138\"',\n",
    "    'sec-ch-ua-mobile': '?0',\n",
    "    'sec-ch-ua-platform': '\"macOS\"',\n",
    "    'sec-fetch-dest': 'empty',\n",
    "    'sec-fetch-mode': 'cors',\n",
    "    'sec-fetch-site': 'same-origin',\n",
    "    'user-agent': 'Mozilla/5.0 (Macintosh; Intel Mac OS X 10_15_7) AppleWebKit/537.36 (KHTML, like Gecko) Chrome/138.0.0.0 Safari/537.36',\n",
    "    'x-airbnb-api-key': 'd306zoyjsyarp7ifhu67rjxn52tv0t20',\n",
    "    'x-airbnb-client-trace-id': '0urxb7h12fsvyi1bviggp1t3yol4',\n",
    "    'x-airbnb-graphql-platform': 'web',\n",
    "    'x-airbnb-graphql-platform-client': 'minimalist-niobe',\n",
    "    'x-airbnb-supports-airlock-v2': 'true',\n",
    "    'x-client-request-id': '0nhgoob0vv4cht1a0e69l06cgxr1',\n",
    "    'x-client-version': 'cdf623e833beb1c0f105177fa30f97ffdb5c61fd',\n",
    "    'x-csrf-token': '',\n",
    "    'x-csrf-without-token': '1',\n",
    "    'x-niobe-short-circuited': 'true',\n",
    "    # 'cookie': 'everest_cookie=1752873530.EAMzEyMTg4ZWUxYTBmZm.JWNX4i-atiEY1weS2-qY1vVJ2kh5MPfjMyJI4tkb5y4; bev=1752873530_EAMDk3ZDJjYTgyOW; country=US; cdn_exp_6d1a30c49a4ba4268=treatment; cdn_exp_ba0c1ab49c246ddf0=control; ak_bmsc=24C7B0DE7B43EC4DF7870FE8159F3471~000000000000000000000000000000~YAAQ5/EkFxf0hRuYAQAAb3RnHxw2BDPPqIwAc8yQ+LEuNhYY1qVjhffCKvbwU2mLgCJPyEoRSFiv49IVGsFa7DUHsq40nktPkMbeMwgs5aYeQtu+O5wltwRA+zqphg67oAZ/t6LWKFMwSToKbIAV21gBDhiKef1HkYUoYLMzlKsYd6mongIvCZo7UKqCLXoYB8nfdD8r8Hos+z+5cUSBY2h7q8GX7XP3S0OTAnezJsEMX4jXilDqnhDoJXwMKFf4lx5YyIsY4pGypDFoVKPACfi7kNDxob3cfAP8SY4wCUSknY3PFzaaPnFWOz81geL/PkoIqqXAq1Ae0Ldhg/blgNuvAPiEOfm9p9lI42O3MJjZ/AAZ+rYfCBFb9NTy4nPRlHORdIdJHWqb; previousTab=%7B%22id%22%3A%22f6171dd1-d743-43ed-ae3d-affcfcc16ab8%22%7D; jitney_client_session_id=4820b4b3-8f51-456a-af04-001b38d371a5; jitney_client_session_created_at=1752873531.724; jitney_client_session_updated_at=1752873531.829; _cci=cban%3Aac-f01ec914-aec7-4635-b1fa-297807dde5a1; _ccv=cban%3A0_183215%3D1%2C0_200000%3D1%2C0_183345%3D1%2C0_183243%3D1%2C0_183216%3D1%2C0_179751%3D1%2C0_200003%3D1%2C0_200005%3D1%2C0_179754%3D1%2C0_179750%3D1%2C0_179737%3D1%2C0_179744%3D1%2C0_179739%3D1%2C0_179743%3D1%2C0_179749%3D1%2C0_200012%3D1%2C0_200011%3D1%2C0_183217%3D1%2C0_183219%3D1%2C0_183096%3D1%2C0_179747%3D1%2C0_179740%3D1%2C0_179752%3D1%2C0_183241%3D1%2C0_200007%3D1%2C0_183346%3D1%2C0_183095%3D1%2C0_210000%3D1%2C0_210001%3D1%2C0_210002%3D1%2C0_210003%3D1%2C0_210004%3D1%2C0_210010%3D1%2C0_210012%3D1%2C0_210008%3D1%2C0_210016%3D1%2C0_210017%3D1; FPID=FPID2.2.yQNj6fX80cDyl6109GO69yoZl4Jywjpv3bJB5VFNlKE%3D.1752873532; FPLC=MfU4f8jP0%2BZR5G63dkKXxIyE%2B1n%2FacFruR3EJ%2BKA1NfM6Nbel6PjH875y07E6dAkciVSkn2Q0b%2FcCaAiK3m%2BEoBGXTlMLl%2Fq8ZLL9hAqw0%2FNSAQw3kQh1EAs7r2N1w%3D%3D; FPAU=1.1.1644874420.1752873533; cfrmfctr=MOBILE; cbkp=2; frmfctr=wide; bm_sv=6738C612EFD8221E3B26AFA4C20DEFDD~YAAQ5vEkF9SWIBKYAQAAW7FxHxwPIeaF/o9npHFNU50Jpqrv2w6CHL2kletyDTqaG/b9d0tdu1wtnHT9hNLjM7Rznuv06BPGGNlJHG+mzi95+WLRTdRTERcDo8FHSBeU/Pix/Yvof+oz+0Gn35TolthqUJLeWQSfUc1+IKUGwkJUPiee5dwOl2P88V0pqCg0g5ErvL90m+jE3hIW9AytWuTrBK4Qv/NA/hkeC0MfNmf4NjTHlsqafMoWgc4kl5X48w==~1',\n",
    "}\n",
    "\n",
    "params = {\n",
    "    'operationName': 'GetHostEstimateData',\n",
    "    'locale': 'en',\n",
    "    'variables': '{\"durationGranularity\":[\"MONTHLY\"],\"source\":\"HOST_LANDING_PAGE\",\"location\":{\"searchQuery\":\"Union City, California, United States\"},\"roomTypeCategory\":\"ENTIRE_HOME\",\"bedroom\":2,\"fetchDebugInfo\":false}',\n",
    "    'extensions': '{\"persistedQuery\":{\"version\":1,\"sha256Hash\":\"7aa6bb483a31d77a137c3442b007c846a3c0ab778c2581ace8f264c0fe10648b\"}}',\n",
    "}\n",
    "\n",
    "response = requests.get(\n",
    "    'https://www.airbnb.com/api/v3/GetHostEstimateData/7aa6bb483a31d77a137c3442b007c846a3c0ab778c2581ace8f264c0fe10648b',\n",
    "    params=params,\n",
    "    cookies=cookies,\n",
    "    headers=headers,\n",
    ")"
   ]
  },
  {
   "cell_type": "code",
   "execution_count": null,
   "id": "ba7fa3a9",
   "metadata": {},
   "outputs": [],
   "source": [
    "# use this function to show the raw JSON response\n",
    "response.json()"
   ]
  },
  {
   "cell_type": "markdown",
   "id": "b751ccea",
   "metadata": {},
   "source": [
    "store the JSON response (dictionary) in a `records` variable to parse."
   ]
  },
  {
   "cell_type": "code",
   "execution_count": 5,
   "id": "964cc042",
   "metadata": {},
   "outputs": [],
   "source": [
    "records = response.json()"
   ]
  },
  {
   "cell_type": "markdown",
   "id": "1aa22b2b",
   "metadata": {},
   "source": [
    "here's a trick to see the keys in the dictionary."
   ]
  },
  {
   "cell_type": "code",
   "execution_count": 6,
   "id": "69b96e87",
   "metadata": {},
   "outputs": [
    {
     "data": {
      "text/plain": [
       "dict_keys(['data', 'extensions'])"
      ]
     },
     "execution_count": 6,
     "metadata": {},
     "output_type": "execute_result"
    }
   ],
   "source": [
    "records.keys()"
   ]
  },
  {
   "cell_type": "markdown",
   "id": "e69ce8e7",
   "metadata": {},
   "source": [
    "If the dictionary is nested, you can go to the next key, and then list the keys, again."
   ]
  },
  {
   "cell_type": "code",
   "execution_count": 7,
   "id": "5605550d",
   "metadata": {},
   "outputs": [
    {
     "data": {
      "text/plain": [
       "dict_keys(['__typename', 'hostEstimate'])"
      ]
     },
     "execution_count": 7,
     "metadata": {},
     "output_type": "execute_result"
    }
   ],
   "source": [
    "records['data']['presentation'].keys()"
   ]
  },
  {
   "cell_type": "markdown",
   "id": "6006f8a4",
   "metadata": {},
   "source": [
    "### 3) Parse the response\n",
    "In the cell below, traverse the JSON response and get the estimated revenue per night. Store this in a variable named `estimate`."
   ]
  },
  {
   "cell_type": "code",
   "execution_count": 24,
   "id": "3460cf26",
   "metadata": {},
   "outputs": [
    {
     "data": {
      "text/plain": [
       "'$158'"
      ]
     },
     "execution_count": 24,
     "metadata": {},
     "output_type": "execute_result"
    }
   ],
   "source": [
    "estimate = records[\"data\"][\"presentation\"][\"hostEstimate\"][\"hostEstimateScreen\"][\"header\"][\"sections\"][1][\"value\"]\n",
    "estimate"
   ]
  },
  {
   "cell_type": "markdown",
   "id": "91ea8de9",
   "metadata": {},
   "source": [
    "### 4) Recycle the API call\n",
    "\n",
    "Next, we're going to make the API call reusable. In the cells below fill in what the URL is for the API call"
   ]
  },
  {
   "cell_type": "markdown",
   "id": "52fa3c12",
   "metadata": {},
   "source": [
    "This is what I originally used, but commented out (see next step for full code)."
   ]
  },
  {
   "cell_type": "code",
   "execution_count": null,
   "id": "cfefd790",
   "metadata": {},
   "outputs": [],
   "source": [
    "# # what is the URL of the API we found?\n",
    "# url = 'https://www.airbnb.com/api/v3/GetHostEstimateData'\n",
    "\n",
    "# # copy the necessary headers here\n",
    "# headers = {\n",
    "#     'accept': '*/*',\n",
    "#     'accept-language': 'en-US,en;q=0.9',\n",
    "#     'content-type': 'application/json',\n",
    "#     'priority': 'u=1, i',\n",
    "#     'referer': 'https://www.airbnb.com/host/homes?room_type=ENTIRE_HOME',\n",
    "#     'sec-ch-ua': '\"Not)A;Brand\";v=\"8\", \"Chromium\";v=\"138\", \"Google Chrome\";v=\"138\"',\n",
    "#     'sec-ch-ua-mobile': '?0',\n",
    "#     'sec-ch-ua-platform': '\"macOS\"',\n",
    "#     'sec-fetch-dest': 'empty',\n",
    "#     'sec-fetch-mode': 'cors',\n",
    "#     'sec-fetch-site': 'same-origin',\n",
    "#     'user-agent': 'Mozilla/5.0 (Macintosh; Intel Mac OS X 10_15_7) AppleWebKit/537.36 (KHTML, like Gecko) Chrome/138.0.0.0 Safari/537.36',\n",
    "#     'x-airbnb-api-key': 'd306zoyjsyarp7ifhu67rjxn52tv0t20',\n",
    "#     'x-airbnb-client-trace-id': '0urxb7h12fsvyi1bviggp1t3yol4',\n",
    "#     'x-airbnb-graphql-platform': 'web',\n",
    "#     'x-airbnb-graphql-platform-client': 'minimalist-niobe',\n",
    "#     'x-airbnb-supports-airlock-v2': 'true',\n",
    "#     'x-client-request-id': '0nhgoob0vv4cht1a0e69l06cgxr1',\n",
    "#     'x-client-version': 'cdf623e833beb1c0f105177fa30f97ffdb5c61fd',\n",
    "#     'x-csrf-token': '',\n",
    "#     'x-csrf-without-token': '1',\n",
    "#     'x-niobe-short-circuited': 'true',\n",
    "# }\n",
    "\n",
    "# # copy the necessary parameters here, but replace the hard-coded address with the variable\n",
    "# address = ''\n",
    "# params = {\n",
    "#         'operationName': 'GetHostEstimateData',\n",
    "#         'locale': 'en',\n",
    "#         'variables': '{\"durationGranularity\":[\"MONTHLY\"],\"source\":\"HOST_LANDING_PAGE\",\"location\":{\"searchQuery\":address},\"roomTypeCategory\":\"ENTIRE_HOME\",\"bedroom\":2,\"fetchDebugInfo\":false}',\n",
    "#         'extensions': '{\"persistedQuery\":{\"version\":1,\"sha256Hash\":\"7aa6bb483a31d77a137c3442b007c846a3c0ab778c2581ace8f264c0fe10648b\"}}',\n",
    "# }\n",
    "\n",
    "# response = requests.get(url, params=params, headers=headers)"
   ]
  },
  {
   "cell_type": "markdown",
   "id": "e16775eb",
   "metadata": {},
   "source": [
    "### 5) Make more API calls\n",
    "Run the API call for at least two other `address`es"
   ]
  },
  {
   "cell_type": "code",
   "execution_count": 26,
   "id": "3bca46fc",
   "metadata": {},
   "outputs": [],
   "source": [
    "import time"
   ]
  },
  {
   "cell_type": "markdown",
   "id": "d1a84415",
   "metadata": {},
   "source": [
    "I ended up modifying the code here as I was getting an empty responses variable with 400 error codes. This version combines multiple steps into one, and uses json.dumps."
   ]
  },
  {
   "cell_type": "code",
   "execution_count": null,
   "id": "9dbcb310",
   "metadata": {},
   "outputs": [],
   "source": [
    "import json\n",
    "\n",
    "url = 'https://www.airbnb.com/api/v3/GetHostEstimateData'\n",
    "headers = {\n",
    "    'accept': '*/*',\n",
    "    'accept-language': 'en-US,en;q=0.9',\n",
    "    'content-type': 'application/json',\n",
    "    'priority': 'u=1, i',\n",
    "    'referer': 'https://www.airbnb.com/host/homes?room_type=ENTIRE_HOME',\n",
    "    'sec-ch-ua': '\"Not)A;Brand\";v=\"8\", \"Chromium\";v=\"138\", \"Google Chrome\";v=\"138\"',\n",
    "    'sec-ch-ua-mobile': '?0',\n",
    "    'sec-ch-ua-platform': '\"macOS\"',\n",
    "    'sec-fetch-dest': 'empty',\n",
    "    'sec-fetch-mode': 'cors',\n",
    "    'sec-fetch-site': 'same-origin',\n",
    "    'user-agent': 'Mozilla/5.0 (Macintosh; Intel Mac OS X 10_15_7) AppleWebKit/537.36 (KHTML, like Gecko) Chrome/138.0.0.0 Safari/537.36',\n",
    "    'x-airbnb-api-key': 'd306zoyjsyarp7ifhu67rjxn52tv0t20',\n",
    "    'x-airbnb-client-trace-id': '0urxb7h12fsvyi1bviggp1t3yol4',\n",
    "    'x-airbnb-graphql-platform': 'web',\n",
    "    'x-airbnb-graphql-platform-client': 'minimalist-niobe',\n",
    "    'x-airbnb-supports-airlock-v2': 'true',\n",
    "    'x-client-request-id': '0nhgoob0vv4cht1a0e69l06cgxr1',\n",
    "    'x-client-version': 'cdf623e833beb1c0f105177fa30f97ffdb5c61fd',\n",
    "    'x-csrf-token': '',\n",
    "    'x-csrf-without-token': '1',\n",
    "    'x-niobe-short-circuited': 'true',\n",
    "}\n",
    "\n",
    "addresses = [\n",
    "    \"Pulitzer Hall, Broadway, New York, NY, USA\",\n",
    "    '1932 Bryant Avenue, The Bronx, NY, USA',\n",
    "    '810 39th Avenue Northeast, Naples, FL, USA',\n",
    "    '86 North 6th Street, Brooklyn, NY, USA'\n",
    "]\n",
    "\n",
    "responses = []\n",
    "for address in addresses:\n",
    "    variables = {\n",
    "        \"durationGranularity\": [\"MONTHLY\"],\n",
    "        \"source\": \"HOST_LANDING_PAGE\",\n",
    "        \"location\": {\"searchQuery\": address},\n",
    "        \"roomTypeCategory\": \"ENTIRE_HOME\",\n",
    "        \"bedroom\": 2,\n",
    "        \"fetchDebugInfo\": False\n",
    "    }\n",
    "\n",
    "    params = {\n",
    "        'operationName': 'GetHostEstimateData',\n",
    "        'locale': 'en',\n",
    "        'variables': json.dumps(variables),  # FIXED\n",
    "        'extensions': json.dumps({\n",
    "            \"persistedQuery\": {\n",
    "                \"version\": 1,\n",
    "                \"sha256Hash\": \"7aa6bb483a31d77a137c3442b007c846a3c0ab778c2581ace8f264c0fe10648b\"\n",
    "            }\n",
    "        }),\n",
    "    }\n",
    "\n",
    "    response = requests.get(url, params=params, headers=headers)\n",
    "\n",
    "    if response.status_code == 200:\n",
    "        responses.append(response.json())\n",
    "    else:\n",
    "        print(f\"Error for address '{address}': {response.status_code} - {response.text}\")\n",
    "    \n",
    "    time.sleep(1)\n"
   ]
  },
  {
   "cell_type": "code",
   "execution_count": null,
   "id": "4de506b9",
   "metadata": {},
   "outputs": [],
   "source": [
    "responses"
   ]
  },
  {
   "cell_type": "markdown",
   "id": "0bf08522",
   "metadata": {},
   "source": [
    "### 6) What are the daily estimated earnings?\n",
    "Print the estimated earning per night for each address in `responses`."
   ]
  },
  {
   "cell_type": "code",
   "execution_count": 44,
   "id": "e0c585fe",
   "metadata": {},
   "outputs": [
    {
     "name": "stdout",
     "output_type": "stream",
     "text": [
      "$463\n",
      "$294\n",
      "$157\n",
      "$429\n"
     ]
    }
   ],
   "source": [
    "for records in responses:\n",
    "    estimate = records[\"data\"][\"presentation\"][\"hostEstimate\"][\"hostEstimateScreen\"][\"header\"][\"sections\"][1][\"value\"]\n",
    "    print(estimate)"
   ]
  },
  {
   "cell_type": "code",
   "execution_count": 49,
   "id": "39b9cac3",
   "metadata": {},
   "outputs": [
    {
     "name": "stdout",
     "output_type": "stream",
     "text": [
      "Pulitzer Hall, Broadway, New York, NY, USA = $463\n",
      "1932 Bryant Avenue, The Bronx, NY, USA = $294\n",
      "810 39th Avenue Northeast, Naples, FL, USA = $157\n",
      "86 North 6th Street, Brooklyn, NY, USA = $429\n"
     ]
    }
   ],
   "source": [
    "for address, record in zip(addresses, responses):\n",
    "        estimate = record[\"data\"][\"presentation\"][\"hostEstimate\"][\"hostEstimateScreen\"][\"header\"][\"sections\"][1][\"value\"]\n",
    "        print(f\"{address} = {estimate}\")\n"
   ]
  },
  {
   "cell_type": "markdown",
   "id": "2588f9ca",
   "metadata": {},
   "source": [
    "### Extra Credit (To be completed later!)\n",
    "1. ~~We just printed the estimates above, can you also record the query addresses and print those, too?~~\n",
    "2. Check different rental configurations in the number of \"bedrooms\".\n",
    "3. What other information is hidden in the API response, anything interesting?\n",
    "\n",
    "### Super Extra\n",
    "1. Get a random sample of addresses from usps.biglocalnews.org\n",
    "    - Merge socioeconomic data from the American Community Survey\n",
    "    - Format the addresses to match the input in the Airbnb site.\n",
    "2. Check if there are patterns in which areas are given the lowest estimates."
   ]
  },
  {
   "cell_type": "markdown",
   "id": "611029eb",
   "metadata": {},
   "source": []
  }
 ],
 "metadata": {
  "kernelspec": {
   "display_name": "3.12.10",
   "language": "python",
   "name": "python3"
  },
  "language_info": {
   "codemirror_mode": {
    "name": "ipython",
    "version": 3
   },
   "file_extension": ".py",
   "mimetype": "text/x-python",
   "name": "python",
   "nbconvert_exporter": "python",
   "pygments_lexer": "ipython3",
   "version": "3.12.10"
  }
 },
 "nbformat": 4,
 "nbformat_minor": 5
}
